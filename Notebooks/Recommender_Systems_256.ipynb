{
  "nbformat": 4,
  "nbformat_minor": 0,
  "metadata": {
    "colab": {
      "provenance": []
    },
    "kernelspec": {
      "name": "python3",
      "display_name": "Python 3"
    },
    "language_info": {
      "name": "python"
    }
  },
  "cells": [
    {
      "cell_type": "markdown",
      "source": [
        "# Recommender Systems"
      ],
      "metadata": {
        "id": "AXdGCav5YvfV"
      }
    },
    {
      "cell_type": "markdown",
      "source": [
        "## Mounting the Google Drive"
      ],
      "metadata": {
        "id": "dPm44VRbJ7lb"
      }
    },
    {
      "cell_type": "code",
      "source": [
        "from google.colab import drive\n",
        "drive.mount('/content/drive')"
      ],
      "metadata": {
        "colab": {
          "base_uri": "https://localhost:8080/"
        },
        "id": "3Ldxf1JKl2WO",
        "outputId": "8e7c05eb-a210-4a4d-b75b-9a6f1b6b367e"
      },
      "execution_count": 1,
      "outputs": [
        {
          "output_type": "stream",
          "name": "stdout",
          "text": [
            "Drive already mounted at /content/drive; to attempt to forcibly remount, call drive.mount(\"/content/drive\", force_remount=True).\n"
          ]
        }
      ]
    },
    {
      "cell_type": "markdown",
      "source": [
        "## 1. ANNOYINDEX with Automated Playlist Generation"
      ],
      "metadata": {
        "id": "W_DLNKthW5dB"
      }
    },
    {
      "cell_type": "markdown",
      "source": [
        "#### Installing required libraries "
      ],
      "metadata": {
        "id": "hmnBj4Ofywt7"
      }
    },
    {
      "cell_type": "code",
      "source": [
        "!pip install annoy"
      ],
      "metadata": {
        "colab": {
          "base_uri": "https://localhost:8080/"
        },
        "id": "m5RfmP5Lmo4a",
        "outputId": "dee1ba35-bfdc-4e11-bbe5-6f1f21d13e68"
      },
      "execution_count": 2,
      "outputs": [
        {
          "output_type": "stream",
          "name": "stdout",
          "text": [
            "Looking in indexes: https://pypi.org/simple, https://us-python.pkg.dev/colab-wheels/public/simple/\n",
            "Collecting annoy\n",
            "  Downloading annoy-1.17.2.tar.gz (647 kB)\n",
            "\u001b[2K     \u001b[90m━━━━━━━━━━━━━━━━━━━━━━━━━━━━━━━━━━━━━━\u001b[0m \u001b[32m647.4/647.4 kB\u001b[0m \u001b[31m29.1 MB/s\u001b[0m eta \u001b[36m0:00:00\u001b[0m\n",
            "\u001b[?25h  Preparing metadata (setup.py) ... \u001b[?25l\u001b[?25hdone\n",
            "Building wheels for collected packages: annoy\n",
            "  Building wheel for annoy (setup.py) ... \u001b[?25l\u001b[?25hdone\n",
            "  Created wheel for annoy: filename=annoy-1.17.2-cp310-cp310-linux_x86_64.whl size=582731 sha256=a7a590e012d334741a88d0316b65b79f2f5e945b8aeb17b658f4f70c9f738d7b\n",
            "  Stored in directory: /root/.cache/pip/wheels/7a/d9/59/473fa56df8e39430eeda369500b4e7127f5b243ba24c3c4297\n",
            "Successfully built annoy\n",
            "Installing collected packages: annoy\n",
            "Successfully installed annoy-1.17.2\n"
          ]
        }
      ]
    },
    {
      "cell_type": "code",
      "execution_count": 3,
      "metadata": {
        "id": "rSLgsPVul8Uc"
      },
      "outputs": [],
      "source": [
        "import pandas as pd\n",
        "import numpy as np\n",
        "import random\n",
        "\n",
        "from annoy import AnnoyIndex\n",
        "from sklearn.preprocessing import StandardScaler\n",
        "from sklearn.metrics.pairwise import cosine_similarity\n",
        "from sklearn.metrics.pairwise import cosine_distances\n"
      ]
    },
    {
      "cell_type": "markdown",
      "source": [
        "#### Data Preprocessing"
      ],
      "metadata": {
        "id": "3cECn21Wy3bH"
      }
    },
    {
      "cell_type": "code",
      "source": [
        "#Loading the dataset and extracting the features\n",
        "data = pd.read_csv('/content/drive/Shareddrives/CMPE 256 Project/preprocessed_track_features.csv')\n",
        "features = ['danceability', 'energy', 'key', 'loudness', 'mode', 'speechiness', 'acousticness', 'instrumentalness', 'liveness', 'valence', 'tempo']\n",
        "data_features = data[features].values"
      ],
      "metadata": {
        "id": "_UpiGUsJmS-e"
      },
      "execution_count": 4,
      "outputs": []
    },
    {
      "cell_type": "code",
      "source": [
        "#Normalizing the features\n",
        "scaler = StandardScaler()\n",
        "scaled_data_features = scaler.fit_transform(data_features)"
      ],
      "metadata": {
        "id": "gCnQ3CeGGCWy"
      },
      "execution_count": 5,
      "outputs": []
    },
    {
      "cell_type": "markdown",
      "source": [
        "#### Creating ANNOY Index"
      ],
      "metadata": {
        "id": "Rgo8G7efzM9x"
      }
    },
    {
      "cell_type": "code",
      "source": [
        "#Building ANNOY index\n",
        "n_trees = 10\n",
        "n_dimensions = len(features)\n",
        "index = AnnoyIndex(n_dimensions, 'angular')\n",
        "\n",
        "for i, feature_vector in enumerate(scaled_data_features):\n",
        "    index.add_item(i, feature_vector)\n",
        "\n",
        "index.build(n_trees)"
      ],
      "metadata": {
        "colab": {
          "base_uri": "https://localhost:8080/"
        },
        "id": "XbN_RTdFmWDd",
        "outputId": "802d8104-7068-414d-8768-9418b9e57309"
      },
      "execution_count": 6,
      "outputs": [
        {
          "output_type": "execute_result",
          "data": {
            "text/plain": [
              "True"
            ]
          },
          "metadata": {},
          "execution_count": 6
        }
      ]
    },
    {
      "cell_type": "markdown",
      "source": [
        "#### Finding nearest neighbours "
      ],
      "metadata": {
        "id": "AbrMjyoZzYwg"
      }
    },
    {
      "cell_type": "code",
      "source": [
        "#Finding nearest neighbours\n",
        "n_neighbors = 20\n",
        "nearest_neighbors = {}\n",
        "for i in range(len(scaled_data_features)):\n",
        "    nearest_neighbors[i] = index.get_nns_by_item(i, n_neighbors)"
      ],
      "metadata": {
        "id": "NdxWnvzrmYIS"
      },
      "execution_count": 7,
      "outputs": []
    },
    {
      "cell_type": "markdown",
      "source": [
        "#### Finding Recommendations "
      ],
      "metadata": {
        "id": "rpXNyFx6zhGd"
      }
    },
    {
      "cell_type": "code",
      "source": [
        "track_id_to_index = {track_id: index for index, track_id in enumerate(data['id'])}\n",
        "index_to_track_id = {index: track_id for track_id, index in track_id_to_index.items()}\n"
      ],
      "metadata": {
        "id": "Z8kkFp0wp6R2"
      },
      "execution_count": 8,
      "outputs": []
    },
    {
      "cell_type": "code",
      "source": [
        "seed_track_id = random.choice(data['id'].values) # Replace this with the id of your seed track\n",
        "seed_track_id = 15\n",
        "playlist_length = 50\n",
        "\n",
        "seed_index = track_id_to_index[seed_track_id]\n",
        "playlist_indices = [seed_index]\n",
        "\n",
        "for i in range(playlist_length - 1):\n",
        "    last_index = playlist_indices[-1]\n",
        "    # Choose the first nearest neighbor that is not already in the playlist\n",
        "    for neighbor in nearest_neighbors[last_index]:\n",
        "        if neighbor not in playlist_indices:\n",
        "            next_index = neighbor\n",
        "            break\n",
        "    playlist_indices.append(next_index)\n",
        "\n",
        "# Convert the integer indices back to track IDs\n",
        "playlist_track_ids = [index_to_track_id[index] for index in playlist_indices]\n",
        "features = ['danceability', 'energy', 'key', 'loudness', 'mode', 'speechiness', 'acousticness', 'instrumentalness', 'liveness', 'valence', 'tempo']\n",
        "\n",
        "print('Input Song:', seed_track_id)\n",
        "print(\"Generated Playlist:\")\n",
        "for i, index in enumerate(playlist_indices, start=1):\n",
        "    track_id = str(index_to_track_id[index])\n",
        "    #track_id=15\n",
        "    track_features_1 = data.loc[data['id'] == int(track_id), features]\n",
        "    track_features_2 = data.loc[data['id'] == seed_track_id, features]\n",
        "    #print(track_features_1.to_numpy())\n",
        "    #print(track_features_2.to_numpy())\n",
        "    track_similarity = cosine_similarity(track_features_1.to_numpy(), track_features_2.to_numpy())\n",
        "    print(f\"{i}. {track_id}   Cosine Similarity -> {track_similarity[0]}\")"
      ],
      "metadata": {
        "colab": {
          "base_uri": "https://localhost:8080/"
        },
        "id": "ithesuaGmaJ9",
        "outputId": "22da83cc-ee40-4586-8e3b-073cf3431ea5"
      },
      "execution_count": 150,
      "outputs": [
        {
          "output_type": "stream",
          "name": "stdout",
          "text": [
            "Input Song: 15\n",
            "Generated Playlist:\n",
            "1. 15   Cosine Similarity -> [1.]\n",
            "2. 143830   Cosine Similarity -> [0.99989346]\n",
            "3. 910443   Cosine Similarity -> [0.99978429]\n",
            "4. 182371   Cosine Similarity -> [0.99970844]\n",
            "5. 470026   Cosine Similarity -> [0.99977013]\n",
            "6. 796608   Cosine Similarity -> [0.999618]\n",
            "7. 296381   Cosine Similarity -> [0.99936321]\n",
            "8. 866776   Cosine Similarity -> [0.99965792]\n",
            "9. 130597   Cosine Similarity -> [0.99981725]\n",
            "10. 994466   Cosine Similarity -> [0.99974773]\n",
            "11. 236855   Cosine Similarity -> [0.99968997]\n",
            "12. 1157868   Cosine Similarity -> [0.9996592]\n",
            "13. 914740   Cosine Similarity -> [0.99960714]\n",
            "14. 488149   Cosine Similarity -> [0.9996597]\n",
            "15. 316065   Cosine Similarity -> [0.99988023]\n",
            "16. 273503   Cosine Similarity -> [0.99967629]\n",
            "17. 52040   Cosine Similarity -> [0.99985231]\n",
            "18. 424367   Cosine Similarity -> [0.99973561]\n",
            "19. 342742   Cosine Similarity -> [0.99977344]\n",
            "20. 306421   Cosine Similarity -> [0.99974667]\n",
            "21. 374375   Cosine Similarity -> [0.99940903]\n",
            "22. 1150979   Cosine Similarity -> [0.99937018]\n",
            "23. 68696   Cosine Similarity -> [0.99946436]\n",
            "24. 517536   Cosine Similarity -> [0.9996622]\n",
            "25. 346153   Cosine Similarity -> [0.99943791]\n",
            "26. 1024672   Cosine Similarity -> [0.999176]\n",
            "27. 807808   Cosine Similarity -> [0.99880286]\n",
            "28. 754224   Cosine Similarity -> [0.99857386]\n",
            "29. 946386   Cosine Similarity -> [0.99861741]\n",
            "30. 858507   Cosine Similarity -> [0.99897486]\n",
            "31. 676616   Cosine Similarity -> [0.99908359]\n",
            "32. 145921   Cosine Similarity -> [0.99921255]\n",
            "33. 1038203   Cosine Similarity -> [0.99732787]\n",
            "34. 1054198   Cosine Similarity -> [0.99856484]\n",
            "35. 185953   Cosine Similarity -> [0.99792336]\n",
            "36. 521202   Cosine Similarity -> [0.99830076]\n",
            "37. 364274   Cosine Similarity -> [0.99863069]\n",
            "38. 714436   Cosine Similarity -> [0.99847507]\n",
            "39. 379635   Cosine Similarity -> [0.99844975]\n",
            "40. 924982   Cosine Similarity -> [0.99822988]\n",
            "41. 1203897   Cosine Similarity -> [0.99872013]\n",
            "42. 265285   Cosine Similarity -> [0.99926418]\n",
            "43. 453830   Cosine Similarity -> [0.9989926]\n",
            "44. 1194642   Cosine Similarity -> [0.99941144]\n",
            "45. 105969   Cosine Similarity -> [0.999502]\n",
            "46. 165072   Cosine Similarity -> [0.99916687]\n",
            "47. 437866   Cosine Similarity -> [0.9981812]\n",
            "48. 31098   Cosine Similarity -> [0.99710395]\n",
            "49. 850415   Cosine Similarity -> [0.99735676]\n",
            "50. 909754   Cosine Similarity -> [0.9979182]\n"
          ]
        }
      ]
    },
    {
      "cell_type": "markdown",
      "source": [
        "#### Transition Smoothness"
      ],
      "metadata": {
        "id": "ADJNdY8NJvyn"
      }
    },
    {
      "cell_type": "code",
      "source": [
        "def pairwise_cosine_similarity(playlist, data, data_features):\n",
        "    similarities = []\n",
        "    for i in range(len(playlist) - 1):\n",
        "        track_1_id = playlist[i]\n",
        "        track_2_id = playlist[i + 1]\n",
        "        \n",
        "        track_1_index = data[data['id'] == track_1_id].index[0]\n",
        "        track_2_index = data[data['id'] == track_2_id].index[0]\n",
        "        \n",
        "        track_1_features = data_features[track_1_index]\n",
        "        track_2_features = data_features[track_2_index]\n",
        "        \n",
        "        similarity = cosine_similarity([track_1_features], [track_2_features])[0][0]\n",
        "        similarities.append(similarity)\n",
        "    return similarities"
      ],
      "metadata": {
        "id": "_t3jlTiWpS9O"
      },
      "execution_count": 48,
      "outputs": []
    },
    {
      "cell_type": "code",
      "source": [
        "similarities = pairwise_cosine_similarity(playlist_track_ids, data, scaled_data_features)"
      ],
      "metadata": {
        "id": "uLbhvVsAEYqM"
      },
      "execution_count": 49,
      "outputs": []
    },
    {
      "cell_type": "code",
      "source": [
        "average_similarity = np.mean(similarities)\n",
        "print(\"Average Cosine Similarity:\", average_similarity)"
      ],
      "metadata": {
        "colab": {
          "base_uri": "https://localhost:8080/"
        },
        "id": "PMK7vL2cpVTu",
        "outputId": "2ccce77b-cbf6-4c7a-f1d2-3a41ce14e69e"
      },
      "execution_count": 50,
      "outputs": [
        {
          "output_type": "stream",
          "name": "stdout",
          "text": [
            "Average Cosine Similarity: 0.9954234962814188\n"
          ]
        }
      ]
    },
    {
      "cell_type": "code",
      "source": [
        "# Assuming playlist_track_ids contains the track IDs of the generated playlist\n",
        "playlist_indices = [track_id_to_index[track_id] for track_id in playlist_track_ids]"
      ],
      "metadata": {
        "id": "S19sj2tNJ0CP"
      },
      "execution_count": 51,
      "outputs": []
    },
    {
      "cell_type": "markdown",
      "source": [
        "#### Intra-list Diversity "
      ],
      "metadata": {
        "id": "WObvK_TdKZNJ"
      }
    },
    {
      "cell_type": "code",
      "source": [
        "def intra_list_diversity(playlist, features):\n",
        "    pairwise_distances = cosine_distances(features[playlist])\n",
        "    avg_distance = np.mean(pairwise_distances)\n",
        "    return avg_distance\n"
      ],
      "metadata": {
        "id": "YeZZBX8dKntR"
      },
      "execution_count": 52,
      "outputs": []
    },
    {
      "cell_type": "code",
      "source": [
        "# Calculate Intra-list diversity\n",
        "diversity_score = intra_list_diversity(playlist_indices, scaled_data_features)\n",
        "print(f\"Intra-list Diversity: {diversity_score}\")"
      ],
      "metadata": {
        "colab": {
          "base_uri": "https://localhost:8080/"
        },
        "id": "9O00x_B9KqJQ",
        "outputId": "56d3b965-508f-4085-d15f-a27b93ca85b6"
      },
      "execution_count": 53,
      "outputs": [
        {
          "output_type": "stream",
          "name": "stdout",
          "text": [
            "Intra-list Diversity: 0.03551929424582136\n"
          ]
        }
      ]
    },
    {
      "cell_type": "markdown",
      "source": [
        "## 2. Knowledge Based Graph Recommender Systems"
      ],
      "metadata": {
        "id": "QpZBD5EuJ4I6"
      }
    },
    {
      "cell_type": "markdown",
      "source": [
        "## Modules Required for Knowledge Based Graph"
      ],
      "metadata": {
        "id": "NXBjOnubJHwy"
      }
    },
    {
      "cell_type": "markdown",
      "source": [
        "##Creating the playlist dataframe with the help for playlist_features.csv"
      ],
      "metadata": {
        "id": "UDH2bglRVRmp"
      }
    },
    {
      "cell_type": "code",
      "source": [
        "import pandas as pd\n",
        "import networkx as nx\n",
        "from sklearn.metrics.pairwise import cosine_similarity\n",
        "import numpy as np\n",
        "import ast\n",
        "playlist_df = pd.read_csv(\"/content/drive/Shareddrives/CMPE 256 Project/playlist_features_500.csv\")\n",
        "track_df = pd.read_csv(\"/content/drive/Shareddrives/CMPE 256 Project/preprocessed_track_features.csv\")"
      ],
      "metadata": {
        "id": "aJo9hISCRaFn"
      },
      "execution_count": 56,
      "outputs": []
    },
    {
      "cell_type": "markdown",
      "source": [
        "##Creating the Graph using the Playlist IDs as nodes"
      ],
      "metadata": {
        "id": "AkMjVq18WHdh"
      }
    },
    {
      "cell_type": "code",
      "source": [
        "# Create a graph using the playlist IDs as nodes\n",
        "G = nx.Graph()\n",
        "G.add_nodes_from(list(playlist_df['playlist_id']))"
      ],
      "metadata": {
        "id": "AHeeYh16R2wn"
      },
      "execution_count": 57,
      "outputs": []
    },
    {
      "cell_type": "markdown",
      "source": [
        "## Cosine Similarity"
      ],
      "metadata": {
        "id": "d63mmzPaWZN_"
      }
    },
    {
      "cell_type": "code",
      "source": [
        "# Calculate the cosine similarity between the playlist features\n",
        "cosine_sim = cosine_similarity(playlist_df.iloc[:, 2:])"
      ],
      "metadata": {
        "id": "x6FnHwH9R6Pu"
      },
      "execution_count": 58,
      "outputs": []
    },
    {
      "cell_type": "markdown",
      "source": [
        "##Adding the edges on based on the cosine similarity to the edges"
      ],
      "metadata": {
        "id": "5rDRVOOgWef5"
      }
    },
    {
      "cell_type": "code",
      "source": [
        "# Add edges to the graph based on the cosine similarity\n",
        "for i in range(len(cosine_sim)):\n",
        "    for j in range(i + 1, len(cosine_sim)):\n",
        "        if cosine_sim[i][j] > 0.8:  # Add an edge if the cosine similarity is greater than 0.8\n",
        "            G.add_edge(playlist_df.iloc[i]['playlist_id'], playlist_df.iloc[j]['playlist_id'])"
      ],
      "metadata": {
        "id": "rKF9GsWiR722"
      },
      "execution_count": 59,
      "outputs": []
    },
    {
      "cell_type": "markdown",
      "source": [
        "##__Function for Recommending playlists based on the user's input of track features__"
      ],
      "metadata": {
        "id": "7fi_QizpWtfv"
      }
    },
    {
      "cell_type": "code",
      "source": [
        "### Updated 1\n",
        "# Define a function to recommend playlists based on the input track's features\n",
        "def recommend_playlists(track_features, num_recommendations=5):\n",
        "    # Calculate the cosine similarity between the input track's features and the playlist features\n",
        "    track_sim = cosine_similarity([track_features], playlist_df.iloc[:, 2:])\n",
        "    # Get the playlist IDs with the highest cosine similarity and their corresponding similarity scores\n",
        "    top_playlists_indexes = track_sim[0].argsort()[::-1][:num_recommendations]\n",
        "    top_playlists = list(playlist_df.iloc[top_playlists_indexes]['playlist_id'])\n",
        "    cosine_similarity_score = list(track_sim[0][top_playlists_indexes])\n",
        "    # Get the subgraph of the top playlists\n",
        "    subgraph = G.subgraph(top_playlists)\n",
        "    # Get the connected components of the subgraph\n",
        "    components = list(nx.connected_components(subgraph))\n",
        "    # Sort the connected components by size and get the largest one\n",
        "    components.sort(key=len, reverse=True)\n",
        "    largest_component = components[0]\n",
        "    # Get the playlist IDs in the largest component\n",
        "    playlist_ids = list(largest_component)\n",
        "    # Get the playlist information from the playlist_df\n",
        "    recommended_playlists = playlist_df[playlist_df['playlist_id'].isin(playlist_ids)]\n",
        "    # Return the recommended playlists along with their cosine similarity scores\n",
        "    return recommended_playlists, cosine_similarity_score"
      ],
      "metadata": {
        "id": "lL8Xso7PqYRL"
      },
      "execution_count": 61,
      "outputs": []
    },
    {
      "cell_type": "markdown",
      "source": [
        "##__An Example for Recommending playlists based on the user's input of track features__"
      ],
      "metadata": {
        "id": "-Z71BGcdW2wV"
      }
    },
    {
      "cell_type": "code",
      "source": [
        "# Example usage:\n",
        "# Define the track features for the input track\n",
        "desired_columns = ['acousticness', 'danceability', 'key', 'loudness', 'mode', 'tempo', 'energy', 'instrumentalness', 'liveness', 'speechiness', 'valence']\n",
        "track_id=15\n",
        "track_features = track_df.loc[track_df['id'] == track_id, desired_columns]\n",
        "#track_features = [0.5, 0.7, 0.8, 0.2, 0.4, 0.6, 0.1]\n",
        "#print(track_features.to_numpy()[0])\n",
        "# Recommend playlists based on the input track's features\n",
        "num_recommendations=5\n",
        "recommended_playlists, similarity_score = recommend_playlists(track_features.to_numpy()[0], num_recommendations)\n",
        "# Print the recommended playlists\n",
        "#print(recommended_playlists, similarity_score)"
      ],
      "metadata": {
        "id": "OvCNR6mRS5-N"
      },
      "execution_count": 62,
      "outputs": []
    },
    {
      "cell_type": "code",
      "source": [
        "# Print the recommended playlists\n",
        "print(f\"Top {num_recommendations} playlists based on the input track's features:\\n\")\n",
        "k=1\n",
        "for i, row in recommended_playlists.iterrows():\n",
        "    print(f\"Sr. No:{k}\")\n",
        "    similarity_s=similarity_score[k-1]\n",
        "    print(f\"Similarity_Score:{similarity_s}\")\n",
        "    print(f\"Playlist ID: {row['playlist_id']}\")\n",
        "    print(f\"Tracks: {row['track_ids']}\")\n",
        "    print(f\"Acousticness: {row['acousticness']:.2f}\")\n",
        "    print(f\"Danceability: {row['danceability']:.2f}\")\n",
        "    print(f\"Energy: {row['energy']:.2f}\")\n",
        "    print(f\"Instrumentalness: {row['instrumentalness']:.2f}\")\n",
        "    print(f\"Liveness: {row['liveness']:.2f}\")\n",
        "    print(f\"Speechiness: {row['speechiness']:.2f}\")\n",
        "    print(f\"Valence: {row['valence']:.2f}\")\n",
        "    print()\n",
        "    k+=1"
      ],
      "metadata": {
        "colab": {
          "base_uri": "https://localhost:8080/"
        },
        "id": "HCpvwldNTlO2",
        "outputId": "d9473451-3e6f-48d5-edda-d17a8920a504"
      },
      "execution_count": 63,
      "outputs": [
        {
          "output_type": "stream",
          "name": "stdout",
          "text": [
            "Top 5 playlists based on the input track's features:\n",
            "\n",
            "Sr. No:1\n",
            "Similarity_Score:0.999938414345819\n",
            "Playlist ID: 45\n",
            "Tracks: [1161585, 933448, 520932, 715736, 1028764, 57345, 463756, 461019, 457157, 1079898, 49309, 835481, 828232, 834810, 802617]\n",
            "Acousticness: 0.01\n",
            "Danceability: 0.30\n",
            "Energy: 0.80\n",
            "Instrumentalness: 0.03\n",
            "Liveness: 0.09\n",
            "Speechiness: 0.05\n",
            "Valence: 0.36\n",
            "\n",
            "Sr. No:2\n",
            "Similarity_Score:0.9999263149253689\n",
            "Playlist ID: 217\n",
            "Tracks: [463074, 850162, 419251, 75903, 524584, 616114, 811665, 1088645, 639491]\n",
            "Acousticness: 0.03\n",
            "Danceability: 0.66\n",
            "Energy: 0.56\n",
            "Instrumentalness: 0.86\n",
            "Liveness: 0.13\n",
            "Speechiness: 0.03\n",
            "Valence: 0.30\n",
            "\n",
            "Sr. No:3\n",
            "Similarity_Score:0.9999207449185021\n",
            "Playlist ID: 275\n",
            "Tracks: [985471, 505846, 812004, 1000928, 441220, 101982, 1030109, 974532, 612487, 418824]\n",
            "Acousticness: 0.36\n",
            "Danceability: 0.48\n",
            "Energy: 0.70\n",
            "Instrumentalness: 0.00\n",
            "Liveness: 0.67\n",
            "Speechiness: 0.40\n",
            "Valence: 0.72\n",
            "\n",
            "Sr. No:4\n",
            "Similarity_Score:0.9999085152862887\n",
            "Playlist ID: 316\n",
            "Tracks: [49265, 111656, 672125, 633346, 378304, 921519, 249172]\n",
            "Acousticness: 0.77\n",
            "Danceability: 0.73\n",
            "Energy: 0.49\n",
            "Instrumentalness: 0.00\n",
            "Liveness: 0.12\n",
            "Speechiness: 0.90\n",
            "Valence: 0.87\n",
            "\n",
            "Sr. No:5\n",
            "Similarity_Score:0.9999067644231395\n",
            "Playlist ID: 448\n",
            "Tracks: [668632, 1065572, 570337, 35484, 325738, 644272, 991190, 273376, 849768, 440742, 898641, 1145904]\n",
            "Acousticness: 0.74\n",
            "Danceability: 0.55\n",
            "Energy: 0.31\n",
            "Instrumentalness: 0.91\n",
            "Liveness: 0.10\n",
            "Speechiness: 0.03\n",
            "Valence: 0.09\n",
            "\n"
          ]
        }
      ]
    },
    {
      "cell_type": "markdown",
      "source": [
        "##__Adding the playlist_features and track_features data into Pandas Dataframe__"
      ],
      "metadata": {
        "id": "OZ8ofmebZDta"
      }
    },
    {
      "cell_type": "code",
      "source": [
        "def recommend_tracks(playlist_id, num_tracks):\n",
        "    # Get the track ids for the given playlist\n",
        "    playlist_track_ids = [int(tid) for tid in playlist_df[playlist_df['playlist_id']==playlist_id]['track_ids'].iloc[0][1:-1].split(\", \")]\n",
        "    \n",
        "    # Remove tracks that are already in the playlist from consideration\n",
        "    track_features = track_df[~track_df['id'].isin(playlist_track_ids)].iloc[:, 3:].values\n",
        "    \n",
        "    # Find the cosine similarity between the playlist and each track\n",
        "    playlist_features = playlist_df[playlist_df['playlist_id']==playlist_id].iloc[:, 2:].values\n",
        "    similarities = cosine_similarity(track_features, playlist_features)\n",
        "    \n",
        "    # Get the indices of the top num_tracks tracks based on cosine similarity\n",
        "    top_indices = np.argsort(similarities.flatten())[::-1][:num_tracks]\n",
        "    \n",
        "    # Get the track ids and their corresponding cosine similarity score for the top recommended tracks\n",
        "    top_tracks = track_df[~track_df['id'].isin(playlist_track_ids)].iloc[top_indices, [0]].copy()\n",
        "    top_tracks['cosine_similarity_score'] = similarities.flatten()[top_indices]\n",
        "    \n",
        "    return top_tracks"
      ],
      "metadata": {
        "id": "D-6GEXROnBLY"
      },
      "execution_count": 64,
      "outputs": []
    },
    {
      "cell_type": "code",
      "source": [
        "recommend_tracks(playlist_id=1, num_tracks=5)"
      ],
      "metadata": {
        "colab": {
          "base_uri": "https://localhost:8080/",
          "height": 206
        },
        "id": "dNF7VrtBq9HJ",
        "outputId": "153dfc92-fb53-49c2-98d2-405ec3437a8e"
      },
      "execution_count": 65,
      "outputs": [
        {
          "output_type": "execute_result",
          "data": {
            "text/plain": [
              "            id  cosine_similarity_score\n",
              "293872  293872                 0.999997\n",
              "538908  538908                 0.999996\n",
              "663556  663556                 0.999995\n",
              "108323  108323                 0.999994\n",
              "304542  304542                 0.999994"
            ],
            "text/html": [
              "\n",
              "  <div id=\"df-13648be9-ba9b-4337-8dd0-298f0cacc37c\">\n",
              "    <div class=\"colab-df-container\">\n",
              "      <div>\n",
              "<style scoped>\n",
              "    .dataframe tbody tr th:only-of-type {\n",
              "        vertical-align: middle;\n",
              "    }\n",
              "\n",
              "    .dataframe tbody tr th {\n",
              "        vertical-align: top;\n",
              "    }\n",
              "\n",
              "    .dataframe thead th {\n",
              "        text-align: right;\n",
              "    }\n",
              "</style>\n",
              "<table border=\"1\" class=\"dataframe\">\n",
              "  <thead>\n",
              "    <tr style=\"text-align: right;\">\n",
              "      <th></th>\n",
              "      <th>id</th>\n",
              "      <th>cosine_similarity_score</th>\n",
              "    </tr>\n",
              "  </thead>\n",
              "  <tbody>\n",
              "    <tr>\n",
              "      <th>293872</th>\n",
              "      <td>293872</td>\n",
              "      <td>0.999997</td>\n",
              "    </tr>\n",
              "    <tr>\n",
              "      <th>538908</th>\n",
              "      <td>538908</td>\n",
              "      <td>0.999996</td>\n",
              "    </tr>\n",
              "    <tr>\n",
              "      <th>663556</th>\n",
              "      <td>663556</td>\n",
              "      <td>0.999995</td>\n",
              "    </tr>\n",
              "    <tr>\n",
              "      <th>108323</th>\n",
              "      <td>108323</td>\n",
              "      <td>0.999994</td>\n",
              "    </tr>\n",
              "    <tr>\n",
              "      <th>304542</th>\n",
              "      <td>304542</td>\n",
              "      <td>0.999994</td>\n",
              "    </tr>\n",
              "  </tbody>\n",
              "</table>\n",
              "</div>\n",
              "      <button class=\"colab-df-convert\" onclick=\"convertToInteractive('df-13648be9-ba9b-4337-8dd0-298f0cacc37c')\"\n",
              "              title=\"Convert this dataframe to an interactive table.\"\n",
              "              style=\"display:none;\">\n",
              "        \n",
              "  <svg xmlns=\"http://www.w3.org/2000/svg\" height=\"24px\"viewBox=\"0 0 24 24\"\n",
              "       width=\"24px\">\n",
              "    <path d=\"M0 0h24v24H0V0z\" fill=\"none\"/>\n",
              "    <path d=\"M18.56 5.44l.94 2.06.94-2.06 2.06-.94-2.06-.94-.94-2.06-.94 2.06-2.06.94zm-11 1L8.5 8.5l.94-2.06 2.06-.94-2.06-.94L8.5 2.5l-.94 2.06-2.06.94zm10 10l.94 2.06.94-2.06 2.06-.94-2.06-.94-.94-2.06-.94 2.06-2.06.94z\"/><path d=\"M17.41 7.96l-1.37-1.37c-.4-.4-.92-.59-1.43-.59-.52 0-1.04.2-1.43.59L10.3 9.45l-7.72 7.72c-.78.78-.78 2.05 0 2.83L4 21.41c.39.39.9.59 1.41.59.51 0 1.02-.2 1.41-.59l7.78-7.78 2.81-2.81c.8-.78.8-2.07 0-2.86zM5.41 20L4 18.59l7.72-7.72 1.47 1.35L5.41 20z\"/>\n",
              "  </svg>\n",
              "      </button>\n",
              "      \n",
              "  <style>\n",
              "    .colab-df-container {\n",
              "      display:flex;\n",
              "      flex-wrap:wrap;\n",
              "      gap: 12px;\n",
              "    }\n",
              "\n",
              "    .colab-df-convert {\n",
              "      background-color: #E8F0FE;\n",
              "      border: none;\n",
              "      border-radius: 50%;\n",
              "      cursor: pointer;\n",
              "      display: none;\n",
              "      fill: #1967D2;\n",
              "      height: 32px;\n",
              "      padding: 0 0 0 0;\n",
              "      width: 32px;\n",
              "    }\n",
              "\n",
              "    .colab-df-convert:hover {\n",
              "      background-color: #E2EBFA;\n",
              "      box-shadow: 0px 1px 2px rgba(60, 64, 67, 0.3), 0px 1px 3px 1px rgba(60, 64, 67, 0.15);\n",
              "      fill: #174EA6;\n",
              "    }\n",
              "\n",
              "    [theme=dark] .colab-df-convert {\n",
              "      background-color: #3B4455;\n",
              "      fill: #D2E3FC;\n",
              "    }\n",
              "\n",
              "    [theme=dark] .colab-df-convert:hover {\n",
              "      background-color: #434B5C;\n",
              "      box-shadow: 0px 1px 3px 1px rgba(0, 0, 0, 0.15);\n",
              "      filter: drop-shadow(0px 1px 2px rgba(0, 0, 0, 0.3));\n",
              "      fill: #FFFFFF;\n",
              "    }\n",
              "  </style>\n",
              "\n",
              "      <script>\n",
              "        const buttonEl =\n",
              "          document.querySelector('#df-13648be9-ba9b-4337-8dd0-298f0cacc37c button.colab-df-convert');\n",
              "        buttonEl.style.display =\n",
              "          google.colab.kernel.accessAllowed ? 'block' : 'none';\n",
              "\n",
              "        async function convertToInteractive(key) {\n",
              "          const element = document.querySelector('#df-13648be9-ba9b-4337-8dd0-298f0cacc37c');\n",
              "          const dataTable =\n",
              "            await google.colab.kernel.invokeFunction('convertToInteractive',\n",
              "                                                     [key], {});\n",
              "          if (!dataTable) return;\n",
              "\n",
              "          const docLinkHtml = 'Like what you see? Visit the ' +\n",
              "            '<a target=\"_blank\" href=https://colab.research.google.com/notebooks/data_table.ipynb>data table notebook</a>'\n",
              "            + ' to learn more about interactive tables.';\n",
              "          element.innerHTML = '';\n",
              "          dataTable['output_type'] = 'display_data';\n",
              "          await google.colab.output.renderOutput(dataTable, element);\n",
              "          const docLink = document.createElement('div');\n",
              "          docLink.innerHTML = docLinkHtml;\n",
              "          element.appendChild(docLink);\n",
              "        }\n",
              "      </script>\n",
              "    </div>\n",
              "  </div>\n",
              "  "
            ]
          },
          "metadata": {},
          "execution_count": 65
        }
      ]
    },
    {
      "cell_type": "markdown",
      "source": [
        "## 3. Deep Neural Network"
      ],
      "metadata": {
        "id": "EEjp6-jNr0RY"
      }
    },
    {
      "cell_type": "markdown",
      "source": [
        "### Importing the libraries used for Deep Neural Network"
      ],
      "metadata": {
        "id": "gziT0YtCUZOn"
      }
    },
    {
      "cell_type": "code",
      "source": [
        "import pandas as pd\n",
        "import numpy as np\n",
        "from sklearn.model_selection import train_test_split\n",
        "from sklearn.preprocessing import StandardScaler\n",
        "from tensorflow.keras.models import Sequential\n",
        "from tensorflow.keras.layers import Dense, Dropout, Flatten\n",
        "from tensorflow.keras.optimizers import Adam\n",
        "from tensorflow.keras.regularizers import l2\n",
        "from tensorflow.keras.wrappers.scikit_learn import KerasClassifier\n",
        "from sklearn.model_selection import GridSearchCV\n",
        "from keras import backend as K\n",
        "from keras import backend as K"
      ],
      "metadata": {
        "id": "B4_neFSppcws"
      },
      "execution_count": 157,
      "outputs": []
    },
    {
      "cell_type": "markdown",
      "source": [
        "### Loading the playlist features from the google drive"
      ],
      "metadata": {
        "id": "a5jZ_Xi0UvRf"
      }
    },
    {
      "cell_type": "code",
      "source": [
        "# Convert the track_ids column into a list of integers\n",
        "playlist_df_1 = pd.read_csv(\"/content/drive/Shareddrives/CMPE 256 Project/playlist_features_500.csv\")\n",
        "playlist_df_1['playlist_id'] = playlist_df_1['playlist_id'].apply(lambda x: x - 1)"
      ],
      "metadata": {
        "id": "qFuYhS10q1sb"
      },
      "execution_count": 158,
      "outputs": []
    },
    {
      "cell_type": "markdown",
      "source": [
        "### Creatign the trainable features and output from the dataframe generated from the playlist features"
      ],
      "metadata": {
        "id": "xQjLj8Z1U13A"
      }
    },
    {
      "cell_type": "code",
      "source": [
        "#print(playlist_df['playlist_id'])\n",
        "X = playlist_df_1.drop(['playlist_id', 'track_ids'], axis=1)\n",
        "y = playlist_df_1['playlist_id']\n",
        "X_train, X_test, y_train, y_test = train_test_split(X, y, test_size=0.2, random_state=42)"
      ],
      "metadata": {
        "id": "yuJZWDwz6Hs4"
      },
      "execution_count": 159,
      "outputs": []
    },
    {
      "cell_type": "code",
      "source": [
        "#Checking the shape of the X\n",
        "y"
      ],
      "metadata": {
        "colab": {
          "base_uri": "https://localhost:8080/"
        },
        "id": "ykKgfoVa7AK1",
        "outputId": "5a41411b-b42f-4c7f-ec96-bb08c37d7969"
      },
      "execution_count": 160,
      "outputs": [
        {
          "output_type": "execute_result",
          "data": {
            "text/plain": [
              "0        0\n",
              "1        1\n",
              "2        2\n",
              "3        3\n",
              "4        4\n",
              "      ... \n",
              "495    495\n",
              "496    496\n",
              "497    497\n",
              "498    498\n",
              "499    499\n",
              "Name: playlist_id, Length: 500, dtype: int64"
            ]
          },
          "metadata": {},
          "execution_count": 160
        }
      ]
    },
    {
      "cell_type": "markdown",
      "source": [
        "### Normalizing the Numerical Features which are present in the Training Dataset"
      ],
      "metadata": {
        "id": "PnhJpECoVFmW"
      }
    },
    {
      "cell_type": "code",
      "source": [
        "# Normalize the numerical features in the training set\n",
        "scaler = StandardScaler()\n",
        "X_train = scaler.fit_transform(X_train)\n",
        "X_test = scaler.transform(X_test)"
      ],
      "metadata": {
        "id": "gT_lit6BrFfT"
      },
      "execution_count": 161,
      "outputs": []
    },
    {
      "cell_type": "markdown",
      "source": [
        "### Defining the metric - Cosine Similarity and Cosine Loss functions for the model training "
      ],
      "metadata": {
        "id": "9T0fs896WLHy"
      }
    },
    {
      "cell_type": "code",
      "source": [
        "def cosine_similarity(y_true, y_pred):\n",
        "    true_norm = K.sqrt(K.sum(K.square(y_true), axis=-1, keepdims=True))\n",
        "    pred_norm = K.sqrt(K.sum(K.square(y_pred), axis=-1, keepdims=True))\n",
        "    dot = K.sum(y_true * y_pred, axis=-1, keepdims=True)\n",
        "    return dot / (true_norm * pred_norm)\n",
        "\n",
        "def cosine_loss(y_true, y_pred):\n",
        "    y_true = K.l2_normalize(tf.cast(y_true, dtype=tf.float32), axis=-1)\n",
        "    y_pred = K.l2_normalize(y_pred, axis=-1)\n",
        "    return K.mean(1 - K.sum((y_true * y_pred), axis=-1))\n"
      ],
      "metadata": {
        "id": "ZV-tS6-Q81pf"
      },
      "execution_count": 162,
      "outputs": []
    },
    {
      "cell_type": "markdown",
      "source": [
        "### Defining the hyperparameters for the Training through the Grid-Search and running with the best-hyperparameters "
      ],
      "metadata": {
        "id": "SbjqmAFLWUzM"
      }
    },
    {
      "cell_type": "code",
      "source": [
        "# Define the hyperparameters to tune\n",
        "param_grid = {\n",
        "    'units': [32,64],\n",
        "    'dropout_rate': [0.4,0.6],\n",
        "    'l2_reg': [0.01,0.1,0.02],\n",
        "    'lr': [0.01, 0.05],\n",
        "    'batch_size': [32],\n",
        "    'epochs': [10,20]\n",
        "}"
      ],
      "metadata": {
        "id": "l9ByjjNlWUCP"
      },
      "execution_count": 163,
      "outputs": []
    },
    {
      "cell_type": "markdown",
      "source": [
        "### Creating the Sequential Model"
      ],
      "metadata": {
        "id": "ClKraaSWWe5H"
      }
    },
    {
      "cell_type": "code",
      "source": [
        "# Define the model function\n",
        "def create_model(units=32, dropout_rate=0.2, l2_reg=0.001, lr=0.001, epochs=200, batch_size=32):\n",
        "    model = Sequential()\n",
        "    model.add(Dense(units=units, activation='relu', input_dim=X_train.shape[1], kernel_regularizer=l2(l2_reg)))\n",
        "    model.add(Dropout(dropout_rate))\n",
        "    model.add(Dense(units=units, activation='relu', kernel_regularizer=l2(l2_reg)))\n",
        "    model.add(Dropout(dropout_rate))\n",
        "    model.add(Dense(units=units, activation='relu', kernel_regularizer=l2(l2_reg)))\n",
        "    model.add(Dropout(dropout_rate))\n",
        "    model.add(Dense(units=units, activation='relu', kernel_regularizer=l2(l2_reg)))\n",
        "    model.add(Dropout(dropout_rate))\n",
        "    model.add(Dense(units=units, activation='relu', kernel_regularizer=l2(l2_reg)))\n",
        "    model.add(Dropout(dropout_rate))\n",
        "    model.add(Dense(units=units, activation='relu', kernel_regularizer=l2(l2_reg)))\n",
        "    model.add(Dropout(dropout_rate))\n",
        "    model.add(Dense(units=units, activation='relu', kernel_regularizer=l2(l2_reg)))\n",
        "    model.add(Dropout(dropout_rate))\n",
        "    model.add(Dense(units=units, activation='relu', kernel_regularizer=l2(l2_reg)))\n",
        "    model.add(Dropout(dropout_rate))\n",
        "    model.add(Dense(units=units, activation='relu', kernel_regularizer=l2(l2_reg)))\n",
        "    model.add(Dropout(dropout_rate))\n",
        "    model.add(Flatten())\n",
        "    model.add(Dense(units=len(playlist_df['playlist_id'].unique()), activation='softmax'))\n",
        "    optimizer = Adam(learning_rate=lr)\n",
        "    model.compile(optimizer=optimizer, loss='sparse_categorical_crossentropy')\n",
        "    return model\n",
        "\n",
        "# Create the model\n",
        "model = KerasClassifier(build_fn=create_model, verbose=0)"
      ],
      "metadata": {
        "colab": {
          "base_uri": "https://localhost:8080/"
        },
        "id": "EkDO5a9u834k",
        "outputId": "1e98ea68-c09e-443f-ae7b-cefa51837270"
      },
      "execution_count": 168,
      "outputs": [
        {
          "output_type": "stream",
          "name": "stderr",
          "text": [
            "<ipython-input-168-fc54de884838>:29: DeprecationWarning: KerasClassifier is deprecated, use Sci-Keras (https://github.com/adriangb/scikeras) instead. See https://www.adriangb.com/scikeras/stable/migration.html for help migrating.\n",
            "  model = KerasClassifier(build_fn=create_model, verbose=0)\n"
          ]
        }
      ]
    },
    {
      "cell_type": "markdown",
      "source": [
        "#Using the GridSearchCV for finding the best Hyperparameters for training the Deep Neural Network"
      ],
      "metadata": {
        "id": "vDQQhTuGWlfS"
      }
    },
    {
      "cell_type": "code",
      "source": [
        "# Use GridSearchCV to find the best hyperparameters\n",
        "grid_search = GridSearchCV(estimator=model, param_grid=param_grid, cv=3)\n",
        "grid_search.fit(X_train, y_train)\n",
        "\n",
        "# Print the best hyperparameters and score\n",
        "print(\"Best hyperparameters:\", grid_search.best_params_)\n",
        "print(\"Best score:\", grid_search.best_score_)\n",
        "\n",
        "# Train the model with the best hyperparameters\n",
        "best_model = create_model(**grid_search.best_params_)\n",
        "best_model.fit(X_train, y_train, epochs=grid_search.best_params_['epochs'], batch_size=grid_search.best_params_['batch_size'], validation_split=0.2)"
      ],
      "metadata": {
        "colab": {
          "base_uri": "https://localhost:8080/"
        },
        "id": "UAaqVslZ88eW",
        "outputId": "b5a4541b-c094-4f67-8e0b-52c4c94e2eb0"
      },
      "execution_count": 169,
      "outputs": [
        {
          "output_type": "stream",
          "name": "stderr",
          "text": [
            "/usr/local/lib/python3.10/dist-packages/sklearn/model_selection/_validation.py:778: UserWarning: Scoring failed. The score on this train-test partition for these parameters will be set to nan. Details: \n",
            "Traceback (most recent call last):\n",
            "  File \"/usr/local/lib/python3.10/dist-packages/sklearn/model_selection/_validation.py\", line 767, in _score\n",
            "    scores = scorer(estimator, X_test, y_test)\n",
            "  File \"/usr/local/lib/python3.10/dist-packages/sklearn/metrics/_scorer.py\", line 444, in _passthrough_scorer\n",
            "    return estimator.score(*args, **kwargs)\n",
            "  File \"/usr/local/lib/python3.10/dist-packages/keras/wrappers/scikit_learn.py\", line 335, in score\n",
            "    raise ValueError(\n",
            "ValueError: The model is not configured to compute accuracy. You should pass `metrics=[\"accuracy\"]` to the `model.compile()` method.\n",
            "\n",
            "  warnings.warn(\n",
            "/usr/local/lib/python3.10/dist-packages/sklearn/model_selection/_search.py:952: UserWarning: One or more of the test scores are non-finite: [nan nan nan nan nan nan nan nan nan nan nan nan nan nan nan nan nan nan\n",
            " nan nan nan nan nan nan nan nan nan nan nan nan nan nan nan nan nan nan\n",
            " nan nan nan nan nan nan nan nan nan nan nan nan]\n",
            "  warnings.warn(\n"
          ]
        },
        {
          "output_type": "stream",
          "name": "stdout",
          "text": [
            "Best hyperparameters: {'batch_size': 32, 'dropout_rate': 0.4, 'epochs': 10, 'l2_reg': 0.01, 'lr': 0.01, 'units': 32}\n",
            "Best score: nan\n",
            "Epoch 1/10\n",
            "10/10 [==============================] - 3s 35ms/step - loss: 8.1499 - val_loss: 7.3409\n",
            "Epoch 2/10\n",
            "10/10 [==============================] - 0s 9ms/step - loss: 6.8269 - val_loss: 6.6532\n",
            "Epoch 3/10\n",
            "10/10 [==============================] - 0s 7ms/step - loss: 6.2657 - val_loss: 6.6541\n",
            "Epoch 4/10\n",
            "10/10 [==============================] - 0s 8ms/step - loss: 6.0584 - val_loss: 7.3507\n",
            "Epoch 5/10\n",
            "10/10 [==============================] - 0s 9ms/step - loss: 5.9872 - val_loss: 7.9996\n",
            "Epoch 6/10\n",
            "10/10 [==============================] - 0s 9ms/step - loss: 5.9121 - val_loss: 8.1277\n",
            "Epoch 7/10\n",
            "10/10 [==============================] - 0s 9ms/step - loss: 5.9012 - val_loss: 8.2832\n",
            "Epoch 8/10\n",
            "10/10 [==============================] - 0s 8ms/step - loss: 5.8736 - val_loss: 8.6196\n",
            "Epoch 9/10\n",
            "10/10 [==============================] - 0s 10ms/step - loss: 5.8665 - val_loss: 8.7933\n",
            "Epoch 10/10\n",
            "10/10 [==============================] - 0s 7ms/step - loss: 5.8613 - val_loss: 8.6692\n"
          ]
        },
        {
          "output_type": "execute_result",
          "data": {
            "text/plain": [
              "<keras.callbacks.History at 0x7f0aee41f850>"
            ]
          },
          "metadata": {},
          "execution_count": 169
        }
      ]
    },
    {
      "cell_type": "markdown",
      "source": [
        "### Evaluating Trained Model on Testing Data"
      ],
      "metadata": {
        "id": "8jYetY7vV2K1"
      }
    },
    {
      "cell_type": "code",
      "source": [
        "# Evaluate the model's performance on the testing set\n",
        "test_loss= best_model.evaluate(X_test, y_test)\n",
        "print('Test loss:', test_loss)\n",
        "#print('Test accuracy:', test_accuracy)"
      ],
      "metadata": {
        "colab": {
          "base_uri": "https://localhost:8080/"
        },
        "id": "vaEWQKv2uCWE",
        "outputId": "36c28e38-0a09-4934-8a78-1605ba0f670c"
      },
      "execution_count": 170,
      "outputs": [
        {
          "output_type": "stream",
          "name": "stdout",
          "text": [
            "4/4 [==============================] - 0s 4ms/step - loss: 8.6631\n",
            "Test loss: 8.663061141967773\n"
          ]
        }
      ]
    },
    {
      "cell_type": "markdown",
      "source": [
        "### Running the single Inference for checking of the model"
      ],
      "metadata": {
        "id": "a42FEmLRV7Is"
      }
    },
    {
      "cell_type": "code",
      "source": [
        "track_features = [0.95045,0.191935,7,-25.10925,1,88.6685,0.0434915,0.50725,0.090595,0.04388,0.08335]\n",
        "track_features = scaler.transform(np.array([track_features]))\n",
        "print(track_features)\n",
        "playlist_id = np.argmax(best_model.predict(np.array([track_features][0])))\n",
        "print(playlist_id)"
      ],
      "metadata": {
        "colab": {
          "base_uri": "https://localhost:8080/"
        },
        "id": "_MzLZvmQuD-r",
        "outputId": "40b40122-2b91-4d17-ba0d-dd69368e7225"
      },
      "execution_count": 171,
      "outputs": [
        {
          "output_type": "stream",
          "name": "stdout",
          "text": [
            "[[ 1.30702537 -1.59535571  0.46897974 -1.92059541  0.68205679 -0.99089287\n",
            "  -1.53897384  0.5667631  -0.59646223 -0.35800714 -1.27751995]]\n",
            "1/1 [==============================] - 0s 141ms/step\n",
            "83\n"
          ]
        },
        {
          "output_type": "stream",
          "name": "stderr",
          "text": [
            "/usr/local/lib/python3.10/dist-packages/sklearn/base.py:439: UserWarning: X does not have valid feature names, but StandardScaler was fitted with feature names\n",
            "  warnings.warn(\n"
          ]
        }
      ]
    },
    {
      "cell_type": "code",
      "source": [
        "best_model.summary()"
      ],
      "metadata": {
        "colab": {
          "base_uri": "https://localhost:8080/"
        },
        "id": "sIXeSHMYbUO9",
        "outputId": "bd4d25ae-054f-4168-9b56-470626823aee"
      },
      "execution_count": 172,
      "outputs": [
        {
          "output_type": "stream",
          "name": "stdout",
          "text": [
            "Model: \"sequential_729\"\n",
            "_________________________________________________________________\n",
            " Layer (type)                Output Shape              Param #   \n",
            "=================================================================\n",
            " dense_7290 (Dense)          (None, 32)                384       \n",
            "                                                                 \n",
            " dropout_6561 (Dropout)      (None, 32)                0         \n",
            "                                                                 \n",
            " dense_7291 (Dense)          (None, 32)                1056      \n",
            "                                                                 \n",
            " dropout_6562 (Dropout)      (None, 32)                0         \n",
            "                                                                 \n",
            " dense_7292 (Dense)          (None, 32)                1056      \n",
            "                                                                 \n",
            " dropout_6563 (Dropout)      (None, 32)                0         \n",
            "                                                                 \n",
            " dense_7293 (Dense)          (None, 32)                1056      \n",
            "                                                                 \n",
            " dropout_6564 (Dropout)      (None, 32)                0         \n",
            "                                                                 \n",
            " dense_7294 (Dense)          (None, 32)                1056      \n",
            "                                                                 \n",
            " dropout_6565 (Dropout)      (None, 32)                0         \n",
            "                                                                 \n",
            " dense_7295 (Dense)          (None, 32)                1056      \n",
            "                                                                 \n",
            " dropout_6566 (Dropout)      (None, 32)                0         \n",
            "                                                                 \n",
            " dense_7296 (Dense)          (None, 32)                1056      \n",
            "                                                                 \n",
            " dropout_6567 (Dropout)      (None, 32)                0         \n",
            "                                                                 \n",
            " dense_7297 (Dense)          (None, 32)                1056      \n",
            "                                                                 \n",
            " dropout_6568 (Dropout)      (None, 32)                0         \n",
            "                                                                 \n",
            " dense_7298 (Dense)          (None, 32)                1056      \n",
            "                                                                 \n",
            " dropout_6569 (Dropout)      (None, 32)                0         \n",
            "                                                                 \n",
            " flatten_291 (Flatten)       (None, 32)                0         \n",
            "                                                                 \n",
            " dense_7299 (Dense)          (None, 500)               16500     \n",
            "                                                                 \n",
            "=================================================================\n",
            "Total params: 25,332\n",
            "Trainable params: 25,332\n",
            "Non-trainable params: 0\n",
            "_________________________________________________________________\n"
          ]
        }
      ]
    },
    {
      "cell_type": "markdown",
      "source": [
        "### Example usage by providing the track-id"
      ],
      "metadata": {
        "id": "ugv1luXmV_Wm"
      }
    },
    {
      "cell_type": "code",
      "source": [
        "# Example usage:\n",
        "# Define the track features for the input track\n",
        "desired_columns = ['acousticness', 'danceability', 'key', 'loudness', 'mode', 'tempo', 'energy', 'instrumentalness', 'liveness', 'speechiness', 'valence']\n",
        "track_id=307183\n",
        "track_features = track_df.loc[track_df['id'] == track_id, desired_columns]\n",
        "recommended_playlist = np.argmax(best_model.predict(np.array([track_features][0])))\n",
        "# Print the recommended playlists\n",
        "#print(playlist_df_1.loc[playlist_df_1['playlist_id'] == recommended_playlist])\n",
        "playlist_features = playlist_df_1.loc[playlist_df_1['playlist_id'] == recommended_playlist, desired_columns]\n",
        "track_similariity = cosine_similarity(track_features_1.to_numpy(), playlist_features.to_numpy())\n",
        "print(recommended_playlist)\n",
        "print(\"The similarity between the songs 15 and the given playlist is:- \", track_similarity)"
      ],
      "metadata": {
        "colab": {
          "base_uri": "https://localhost:8080/"
        },
        "id": "GAq5HsarF5CJ",
        "outputId": "ac069c7c-96bf-4e89-9759-a831580d8aa6"
      },
      "execution_count": 176,
      "outputs": [
        {
          "output_type": "stream",
          "name": "stdout",
          "text": [
            "1/1 [==============================] - 0s 39ms/step\n",
            "83\n",
            "The similarity between the songs 15 and the given playlist is:-  [[0.01412899]]\n"
          ]
        }
      ]
    },
    {
      "cell_type": "markdown",
      "source": [
        "## 4. PCA and DBSCAN"
      ],
      "metadata": {
        "id": "pTW9kM6fW0Nn"
      }
    },
    {
      "cell_type": "markdown",
      "source": [
        "#### Importing all the necessary libraries "
      ],
      "metadata": {
        "id": "AHFcdHi5vH7U"
      }
    },
    {
      "cell_type": "code",
      "execution_count": 110,
      "metadata": {
        "id": "8tubeJYD0WHB"
      },
      "outputs": [],
      "source": [
        "#importing all the libraries \n",
        "import pandas as pd\n",
        "import numpy as np\n",
        "\n",
        "from sklearn.preprocessing import StandardScaler\n",
        "from sklearn.decomposition import PCA\n",
        "from sklearn.cluster import DBSCAN\n",
        "from sklearn.metrics.pairwise import cosine_similarity\n",
        "from sklearn import metrics\n"
      ]
    },
    {
      "cell_type": "markdown",
      "source": [
        "#### Data Preprocessing "
      ],
      "metadata": {
        "id": "MeSxJFXcvRqp"
      }
    },
    {
      "cell_type": "code",
      "source": [
        "#Loading the dataset \n",
        "data = pd.read_csv('/content/drive/Shareddrives/CMPE 256 Project/preprocessed_track_features.csv')\n",
        "#data = data.sample(frac=0.9)"
      ],
      "metadata": {
        "id": "KRLzMc3_0vJC"
      },
      "execution_count": 111,
      "outputs": []
    },
    {
      "cell_type": "code",
      "source": [
        "#Extracting the features\n",
        "features = ['danceability', 'energy', 'key', 'loudness', 'mode', 'speechiness', 'acousticness', 'instrumentalness', 'liveness', 'valence', 'tempo']\n",
        "X = data[features]"
      ],
      "metadata": {
        "id": "TC2L8gTK07st"
      },
      "execution_count": 112,
      "outputs": []
    },
    {
      "cell_type": "code",
      "source": [
        "#Taking care of missing values \n",
        "X_filled = X.fillna(X.mean())\n"
      ],
      "metadata": {
        "id": "PZuekxhV2ybt"
      },
      "execution_count": 113,
      "outputs": []
    },
    {
      "cell_type": "code",
      "source": [
        "#Normalizing the features \n",
        "scaler = StandardScaler()\n",
        "X_scaled = scaler.fit_transform(X)"
      ],
      "metadata": {
        "id": "oGcIj_hA2yA2"
      },
      "execution_count": 114,
      "outputs": []
    },
    {
      "cell_type": "markdown",
      "source": [
        "#### Principal Component Analysis \n",
        "\n",
        "Reducing the dimentionality of the dataset "
      ],
      "metadata": {
        "id": "rtn63blvv3xz"
      }
    },
    {
      "cell_type": "code",
      "source": [
        "#Principal Component Analysis\n",
        "n_components = 7\n",
        "pca = PCA(n_components=n_components)\n",
        "X_pca = pca.fit_transform(X_scaled)\n"
      ],
      "metadata": {
        "id": "SqDaDNAj37Dm"
      },
      "execution_count": 115,
      "outputs": []
    },
    {
      "cell_type": "markdown",
      "source": [
        "#### DBSCAN Clustering \n",
        "Fitting the clustering model on the feature data set"
      ],
      "metadata": {
        "id": "wuAhg0sQwDaj"
      }
    },
    {
      "cell_type": "code",
      "source": [
        "# Perform DBSCAN clustering\n",
        "dbscan = DBSCAN(eps=0.5, min_samples=10)\n",
        "clusters = dbscan.fit_predict(X_pca)"
      ],
      "metadata": {
        "id": "XZFH1rx6099w"
      },
      "execution_count": 130,
      "outputs": []
    },
    {
      "cell_type": "code",
      "source": [
        "data['cluster'] = clusters"
      ],
      "metadata": {
        "id": "UKNtaw1a1A-d"
      },
      "execution_count": 131,
      "outputs": []
    },
    {
      "cell_type": "markdown",
      "source": [
        "#### Finding Recommendations \n",
        "\n",
        "Here, we are finding the recommendations on a randomly selected track_id and trying to evaluate and rank the recommended tracks on the basis of cosine similarity"
      ],
      "metadata": {
        "id": "De1eHQi4wdhK"
      }
    },
    {
      "cell_type": "code",
      "source": [
        "# Select a random track_id from the dataset as input\n",
        "input_song = data.sample(1)\n",
        "input_track_id = input_song['id'].values[0]\n",
        "input_track_id = 15"
      ],
      "metadata": {
        "id": "EcaggDVpvDKw"
      },
      "execution_count": 154,
      "outputs": []
    },
    {
      "cell_type": "code",
      "source": [
        "# Extract and preprocess the features of the input song\n",
        "input_song_features = input_song[features]\n",
        "input_song_features_filled = input_song_features.fillna(input_song_features.mean())\n",
        "input_song_features_scaled = scaler.transform(input_song_features_filled)\n"
      ],
      "metadata": {
        "id": "6X4geM0nvHir"
      },
      "execution_count": 133,
      "outputs": []
    },
    {
      "cell_type": "code",
      "source": [
        "#the cluster of the input song\n",
        "input_song_cluster = input_song['cluster'].iloc[0]"
      ],
      "metadata": {
        "id": "_Mg-mGJcvLQg"
      },
      "execution_count": 134,
      "outputs": []
    },
    {
      "cell_type": "code",
      "source": [
        "# Get initial recommendations from the same cluster\n",
        "recommendations = data[data['cluster'] == input_song_cluster].sample(200)\n"
      ],
      "metadata": {
        "id": "SydYbI2LvObU"
      },
      "execution_count": 135,
      "outputs": []
    },
    {
      "cell_type": "code",
      "source": [
        "# Extract and preprocess the features of the recommended songs\n",
        "recommended_ids = recommendations['id'].values\n",
        "recommended_features = data[data['id'].isin(recommended_ids)][features]\n",
        "recommended_features_filled = recommended_features.fillna(recommended_features.mean())\n",
        "recommended_features_scaled = scaler.transform(recommended_features_filled)\n"
      ],
      "metadata": {
        "id": "HkcYAuXTvUZW"
      },
      "execution_count": 136,
      "outputs": []
    },
    {
      "cell_type": "code",
      "source": [
        "# Apply PCA to the input song and recommended songs\n",
        "input_song_features_pca = pca.transform(input_song_features_scaled)\n",
        "recommended_features_pca = pca.transform(recommended_features_scaled)\n"
      ],
      "metadata": {
        "id": "JwuE1-7HvXi6"
      },
      "execution_count": 137,
      "outputs": []
    },
    {
      "cell_type": "code",
      "source": [
        "# Calculate cosine similarity between the input song and recommended songs\n",
        "cosine_similarities = cosine_similarity(input_song_features_pca, recommended_features_pca)\n"
      ],
      "metadata": {
        "id": "WV86KzhzvasO"
      },
      "execution_count": 138,
      "outputs": []
    },
    {
      "cell_type": "code",
      "source": [
        "# Re-rank the recommendations based on their cosine similarity to the input song\n",
        "recommendations['cosine_similarity'] = cosine_similarities.flatten()\n",
        "recommendations_sorted = recommendations.sort_values(by='cosine_similarity', ascending=False)\n"
      ],
      "metadata": {
        "id": "2U0GwUP-vegO"
      },
      "execution_count": 139,
      "outputs": []
    },
    {
      "cell_type": "code",
      "source": [
        "# Filter the recommendations based on cosine similarity threshold\n",
        "cosine_similarity_threshold = 0.7\n",
        "filtered_recommendations = recommendations_sorted[recommendations_sorted['cosine_similarity'] > cosine_similarity_threshold]"
      ],
      "metadata": {
        "id": "zkwkpsJ2XH-S"
      },
      "execution_count": 140,
      "outputs": []
    },
    {
      "cell_type": "code",
      "source": [
        "print(\"Input song:\")\n",
        "print(input_song[['id', 'name', 'artists']])\n",
        "print(\"\\nRecommended songs:\")\n",
        "print(filtered_recommendations[['id', 'name', 'artists', 'cosine_similarity']])"
      ],
      "metadata": {
        "colab": {
          "base_uri": "https://localhost:8080/"
        },
        "id": "ioeQbn2VvgjN",
        "outputId": "0bfe6dbd-bdb1-4ea2-bcb6-dccf70194c88"
      },
      "execution_count": 155,
      "outputs": [
        {
          "output_type": "stream",
          "name": "stdout",
          "text": [
            "Input song:\n",
            "            id            name        artists\n",
            "702910  702910  Atin Ang Mundo  ['The Juans']\n",
            "\n",
            "Recommended songs:\n",
            "              id                                               name  \\\n",
            "563423    563423                              Laurel Canyon Sunrise   \n",
            "653626    653626  La rondine: Act III: Che volete da me? (Magda,...   \n",
            "661962    661962            Suite in D Minor (I: 65-71): IV. Bouree   \n",
            "342091    342091                            Blue Heron/White Bridge   \n",
            "886474    886474                                      Seven Murders   \n",
            "601662    601662                                 Forgive Me My Love   \n",
            "551901    551901                                            Vertige   \n",
            "519939    519939                               Esta Noite De Natale   \n",
            "971100    971100                                    Nido de Espinas   \n",
            "619966    619966                    Shake You Down - Single Version   \n",
            "397884    397884                                                 If   \n",
            "883405    883405                              Deep Theta 2.0 (Pt 5)   \n",
            "652883    652883                                         First Kiss   \n",
            "868215    868215                                    Machine Debaser   \n",
            "442700    442700  L'art de toucher le clavecin: Prelude No. 2 in...   \n",
            "160754    160754                                               Moon   \n",
            "924726    924726                                           Ambrosia   \n",
            "417526    417526  Piano Sonata in E Minor, Op. 7: I. Allegro mod...   \n",
            "1194755  1194755                         Cowboy Rocker - Remastered   \n",
            "1187272  1187272                                           Big Hurt   \n",
            "611968    611968                                    Go (Remastered)   \n",
            "1198714  1198714                                           De Ba Vi   \n",
            "805182    805182                         The Mighty Stephen Hawking   \n",
            "126065    126065                                    Don't Walk Away   \n",
            "269982    269982                              Black Liberation Time   \n",
            "1145382  1145382                                  The Clapping Song   \n",
            "491964    491964                                          Club Song   \n",
            "473005    473005                          Non temere alma immortale   \n",
            "\n",
            "                                                   artists  cosine_similarity  \n",
            "563423                                  ['The Black Pine']           0.947694  \n",
            "653626   ['Giacomo Puccini', 'Svetla Vassileva', 'Maya ...           0.946203  \n",
            "661962   ['Silvius Leopold Weiss', 'Bernhard Hofstötter...           0.924830  \n",
            "342091                                     ['Artie Traum']           0.883627  \n",
            "886474                      ['Soundtrack/Cast Collection']           0.880326  \n",
            "601662                 ['Yoko Ono', 'Death Cab for Cutie']           0.874931  \n",
            "551901                                           ['Alexe']           0.833879  \n",
            "519939        ['Salome Sandoval McNutt', 'Christa Patton']           0.833750  \n",
            "971100                                           ['Hidro']           0.830764  \n",
            "619966                                  ['Gregory Abbott']           0.826325  \n",
            "397884                                          ['Tobias']           0.822830  \n",
            "883405                 ['Steven Halpern', 'Schawkie Roth']           0.822265  \n",
            "652883                              ['International Five']           0.820695  \n",
            "868215                                    ['Fear Factory']           0.816439  \n",
            "442700              ['François Couperin', 'Paul Cienniwa']           0.813513  \n",
            "160754                                 ['Charlie DeChant']           0.803780  \n",
            "924726                                      ['Tina Malia']           0.790506  \n",
            "417526                    ['Edvard Grieg', 'Håvard Gimse']           0.788852  \n",
            "1194755          ['Udo Lindenberg', 'Das Panik-Orchester']           0.788558  \n",
            "1187272                   ['AJ Crawdaddy', 'Marcel Smith']           0.788348  \n",
            "611968                                       ['Pearl Jam']           0.775714  \n",
            "1198714                                 ['10an', 'GULEED']           0.767563  \n",
            "805182                                      ['MC Hawking']           0.762251  \n",
            "126065                                           ['Mario']           0.751830  \n",
            "269982                                    ['Dennis Brown']           0.746695  \n",
            "1145382                                   ['Gary Glitter']           0.746644  \n",
            "491964                                     ['Big Prodeje']           0.716446  \n",
            "473005   ['David Appell', 'Linda Ronstadt', 'Dennis Jam...           0.709366  \n"
          ]
        }
      ]
    },
    {
      "cell_type": "code",
      "source": [
        "# Exclude noise points\n",
        "non_noise_indices = clusters != -1\n",
        "X_pca_no_noise = X_pca[non_noise_indices]\n",
        "clusters_no_noise = clusters[non_noise_indices]\n",
        "\n",
        "# Compute metrics\n",
        "#silhouette_score = metrics.silhouette_score(X_pca_no_noise, clusters_no_noise)\n",
        "davies_bouldin_score = metrics.davies_bouldin_score(X_pca_no_noise, clusters_no_noise)\n",
        "calinski_harabasz_score = metrics.calinski_harabasz_score(X_pca_no_noise, clusters_no_noise)\n",
        "\n",
        "#print(\"Silhouette Score (excluding noise points):\", silhouette_score)\n",
        "print(\"Davies-Bouldin Index (excluding noise points):\", davies_bouldin_score)\n",
        "print(\"Calinski-Harabasz Index (excluding noise points):\", calinski_harabasz_score)"
      ],
      "metadata": {
        "colab": {
          "base_uri": "https://localhost:8080/"
        },
        "id": "UN3ux60yySDC",
        "outputId": "d2ea5fb0-9f6e-4aa7-c66f-ab02bc5c15f8"
      },
      "execution_count": 142,
      "outputs": [
        {
          "output_type": "stream",
          "name": "stdout",
          "text": [
            "Davies-Bouldin Index (excluding noise points): 1.0215942588174676\n",
            "Calinski-Harabasz Index (excluding noise points): 573.4611955534361\n"
          ]
        }
      ]
    }
  ]
}