{
  "nbformat": 4,
  "nbformat_minor": 0,
  "metadata": {
    "colab": {
      "provenance": []
    },
    "kernelspec": {
      "name": "python3",
      "display_name": "Python 3"
    },
    "language_info": {
      "name": "python"
    }
  },
  "cells": [
    {
      "cell_type": "markdown",
      "source": [
        "# CMPE: 256 Advanced Data Mining \n",
        "## Spotify Music Recommendation System\n",
        "## Approach: DBSCAN"
      ],
      "metadata": {
        "id": "51UlIcOzuvVK"
      }
    },
    {
      "cell_type": "markdown",
      "source": [
        "#### Importing all the necessary libraries "
      ],
      "metadata": {
        "id": "AHFcdHi5vH7U"
      }
    },
    {
      "cell_type": "code",
      "execution_count": 4,
      "metadata": {
        "id": "8tubeJYD0WHB"
      },
      "outputs": [],
      "source": [
        "#importing all the libraries \n",
        "import pandas as pd\n",
        "import numpy as np\n",
        "\n",
        "from sklearn.preprocessing import StandardScaler\n",
        "from sklearn.decomposition import PCA\n",
        "from sklearn.cluster import DBSCAN\n",
        "from sklearn.metrics.pairwise import cosine_similarity\n",
        "from sklearn import metrics\n"
      ]
    },
    {
      "cell_type": "markdown",
      "source": [
        "#### Data Preprocessing "
      ],
      "metadata": {
        "id": "MeSxJFXcvRqp"
      }
    },
    {
      "cell_type": "code",
      "source": [
        "#Loading the dataset \n",
        "data = pd.read_csv('tracks_features.csv')\n",
        "#data = data.sample(frac=0.9)"
      ],
      "metadata": {
        "id": "KRLzMc3_0vJC"
      },
      "execution_count": 5,
      "outputs": []
    },
    {
      "cell_type": "code",
      "source": [
        "#Extracting the features\n",
        "features = ['danceability', 'energy', 'key', 'loudness', 'mode', 'speechiness', 'acousticness', 'instrumentalness', 'liveness', 'valence', 'tempo']\n",
        "X = data[features]\n",
        "\n"
      ],
      "metadata": {
        "id": "TC2L8gTK07st"
      },
      "execution_count": 6,
      "outputs": []
    },
    {
      "cell_type": "code",
      "source": [
        "#Taking care of missing values \n",
        "X_filled = X.fillna(X.mean())\n"
      ],
      "metadata": {
        "id": "PZuekxhV2ybt"
      },
      "execution_count": 7,
      "outputs": []
    },
    {
      "cell_type": "code",
      "source": [
        "#Normalizing the features \n",
        "scaler = StandardScaler()\n",
        "X_scaled = scaler.fit_transform(X)"
      ],
      "metadata": {
        "id": "oGcIj_hA2yA2"
      },
      "execution_count": 8,
      "outputs": []
    },
    {
      "cell_type": "markdown",
      "source": [
        "#### Principal Component Analysis \n",
        "\n",
        "Reducing the dimentionality of the dataset "
      ],
      "metadata": {
        "id": "rtn63blvv3xz"
      }
    },
    {
      "cell_type": "code",
      "source": [
        "#Principal Component Analysis\n",
        "n_components = 7\n",
        "pca = PCA(n_components=n_components)\n",
        "X_pca = pca.fit_transform(X_scaled)\n"
      ],
      "metadata": {
        "id": "SqDaDNAj37Dm"
      },
      "execution_count": 9,
      "outputs": []
    },
    {
      "cell_type": "markdown",
      "source": [
        "#### DBSCAN Clustering \n",
        "Fitting the clustering model on the feature data set"
      ],
      "metadata": {
        "id": "wuAhg0sQwDaj"
      }
    },
    {
      "cell_type": "code",
      "source": [
        "# Perform DBSCAN clustering\n",
        "dbscan = DBSCAN(eps=0.5, min_samples=10)\n",
        "clusters = dbscan.fit_predict(X_pca)\n"
      ],
      "metadata": {
        "id": "XZFH1rx6099w"
      },
      "execution_count": 10,
      "outputs": []
    },
    {
      "cell_type": "code",
      "source": [
        "data['cluster'] = clusters"
      ],
      "metadata": {
        "id": "UKNtaw1a1A-d"
      },
      "execution_count": 11,
      "outputs": []
    },
    {
      "cell_type": "markdown",
      "source": [
        "#### Finding Recommendations \n",
        "\n",
        "Here, we are finding the recommendations on a randomly selected track_id and trying to evaluate and rank the recommended tracks on the basis of cosine similarity"
      ],
      "metadata": {
        "id": "De1eHQi4wdhK"
      }
    },
    {
      "cell_type": "code",
      "source": [
        "# Select a random track_id from the dataset as input\n",
        "input_song = data.sample(1)\n",
        "input_track_id = input_song['id'].values[0]\n",
        "input_track_id"
      ],
      "metadata": {
        "id": "EcaggDVpvDKw"
      },
      "execution_count": 12,
      "outputs": []
    },
    {
      "cell_type": "code",
      "source": [
        "# Extract and preprocess the features of the input song\n",
        "input_song_features = input_song[features]\n",
        "input_song_features_filled = input_song_features.fillna(input_song_features.mean())\n",
        "input_song_features_scaled = scaler.transform(input_song_features_filled)\n"
      ],
      "metadata": {
        "id": "6X4geM0nvHir"
      },
      "execution_count": 13,
      "outputs": []
    },
    {
      "cell_type": "code",
      "source": [
        "#the cluster of the input song\n",
        "input_song_cluster = input_song['cluster'].iloc[0]"
      ],
      "metadata": {
        "id": "_Mg-mGJcvLQg"
      },
      "execution_count": 14,
      "outputs": []
    },
    {
      "cell_type": "code",
      "source": [
        "# Get initial recommendations from the same cluster\n",
        "recommendations = data[data['cluster'] == input_song_cluster].sample(200)\n"
      ],
      "metadata": {
        "id": "SydYbI2LvObU"
      },
      "execution_count": 15,
      "outputs": []
    },
    {
      "cell_type": "code",
      "source": [
        "# Extract and preprocess the features of the recommended songs\n",
        "recommended_ids = recommendations['id'].values\n",
        "recommended_features = data[data['id'].isin(recommended_ids)][features]\n",
        "recommended_features_filled = recommended_features.fillna(recommended_features.mean())\n",
        "recommended_features_scaled = scaler.transform(recommended_features_filled)\n"
      ],
      "metadata": {
        "id": "HkcYAuXTvUZW"
      },
      "execution_count": 16,
      "outputs": []
    },
    {
      "cell_type": "code",
      "source": [
        "# Apply PCA to the input song and recommended songs\n",
        "input_song_features_pca = pca.transform(input_song_features_scaled)\n",
        "recommended_features_pca = pca.transform(recommended_features_scaled)\n"
      ],
      "metadata": {
        "id": "JwuE1-7HvXi6"
      },
      "execution_count": 17,
      "outputs": []
    },
    {
      "cell_type": "code",
      "source": [
        "# Calculate cosine similarity between the input song and recommended songs\n",
        "cosine_similarities = cosine_similarity(input_song_features_pca, recommended_features_pca)\n"
      ],
      "metadata": {
        "id": "WV86KzhzvasO"
      },
      "execution_count": 18,
      "outputs": []
    },
    {
      "cell_type": "code",
      "source": [
        "# Re-rank the recommendations based on their cosine similarity to the input song\n",
        "recommendations['cosine_similarity'] = cosine_similarities.flatten()\n",
        "recommendations_sorted = recommendations.sort_values(by='cosine_similarity', ascending=False)\n"
      ],
      "metadata": {
        "id": "2U0GwUP-vegO"
      },
      "execution_count": 20,
      "outputs": []
    },
    {
      "cell_type": "code",
      "source": [
        "# Filter the recommendations based on cosine similarity threshold\n",
        "cosine_similarity_threshold = 0.7\n",
        "filtered_recommendations = recommendations_sorted[recommendations_sorted['cosine_similarity'] > cosine_similarity_threshold]"
      ],
      "metadata": {
        "id": "zkwkpsJ2XH-S"
      },
      "execution_count": 21,
      "outputs": []
    },
    {
      "cell_type": "code",
      "source": [
        "print(\"Input song:\")\n",
        "print(input_song[['id', 'name', 'artists', 'album']])\n",
        "print(\"\\nRecommended songs:\")\n",
        "print(filtered_recommendations[['id', 'name', 'artists', 'album', 'cosine_similarity']])"
      ],
      "metadata": {
        "colab": {
          "base_uri": "https://localhost:8080/"
        },
        "id": "ioeQbn2VvgjN",
        "outputId": "c89ec28a-ba47-4244-fa74-f06761be8224"
      },
      "execution_count": 22,
      "outputs": [
        {
          "output_type": "stream",
          "name": "stdout",
          "text": [
            "Input song:\n",
            "                             id            name             artists  \\\n",
            "1047344  48GyQrDhrA8GBGCJukg7cP  Proud This Day  ['Randy Peterson']   \n",
            "\n",
            "               album  \n",
            "1047344  Picture Day  \n",
            "\n",
            "Recommended songs:\n",
            "                             id  \\\n",
            "1014240  4Pv9VLOPdH0IjknxFL69JZ   \n",
            "774907   2KRGsBdu4uiAT4MTXT0dCs   \n",
            "378760   6EQ6SWDugGb4fRlXqFThfU   \n",
            "475535   6q1NIOiUHixKUzJgifrXXu   \n",
            "776488   4zFdL5rG7gg98eQgHFzicw   \n",
            "116502   4ErPrvGKlfKieRd0VR10CB   \n",
            "729302   2wYFJoH48CvUBWE3e8FsBo   \n",
            "889662   6UXAw8nv7Tbn2X461qQ7Zd   \n",
            "24359    5wFOJPmF5seOFtvvbqElZL   \n",
            "544424   4trdc8XKiPHbVlGHiFZYTH   \n",
            "1109804  0NWaEs60T2O8clNlDPuEE7   \n",
            "862705   2GKsSI0ut4jUshkRDdq5In   \n",
            "819016   0kUuGMQIld15gmnYguh6cx   \n",
            "43220    7qdcE5qU3yXpbEkc6oRNQX   \n",
            "\n",
            "                                                  name  \\\n",
            "1014240                         Never Enough (For You)   \n",
            "774907                        Lord Keep Me With A Mind   \n",
            "378760                          Lads of Wamphray March   \n",
            "475535                            Harder Than The Rest   \n",
            "776488                                     Genghis Kan   \n",
            "116502                           Children's Song No. 2   \n",
            "729302                                  The Four Marys   \n",
            "889662                                   It Ain't Fair   \n",
            "24359                             Papi Te Quiero Remix   \n",
            "544424                                        The Same   \n",
            "1109804                        Infinite - Original Mix   \n",
            "862705                                         La Rina   \n",
            "819016   Waltz, Op. 164: Village Swallows from Austria   \n",
            "43220                                         Dreamin'   \n",
            "\n",
            "                                                   artists  \\\n",
            "1014240                                          ['Toque']   \n",
            "774907                                  ['Rev. D.C. Rice']   \n",
            "378760   ['Percy Grainger', 'North Texas Wind Symphony'...   \n",
            "475535                                           ['Burnt']   \n",
            "776488                                           ['Mar$o']   \n",
            "116502                                       ['Aisha Duo']   \n",
            "729302                                 ['Rebecca Pidgeon']   \n",
            "889662                                       ['Cat Power']   \n",
            "24359                                        ['Ivy Queen']   \n",
            "544424                                        ['Reaction']   \n",
            "1109804               ['Stray Theories', 'Chasing Dreams']   \n",
            "862705               ['Conjunto Clásico', 'Johnny Rivera']   \n",
            "819016   ['Josef Strauss', 'Staatskapelle Dresden', 'Ot...   \n",
            "43220                                   ['Grady Champion']   \n",
            "\n",
            "                                                     album  cosine_similarity  \n",
            "1014240                                       Never Enough           0.950259  \n",
            "774907   Times Ain't Like They Used To Be: Early Americ...           0.887590  \n",
            "378760      Composer's Collection: Percy Aldridge Grainger           0.850274  \n",
            "475535                                           Esperanza           0.834517  \n",
            "776488                                         Genghis Kan           0.773551  \n",
            "116502                                         Quiet Songs           0.772727  \n",
            "729302                                          Four Marys           0.755540  \n",
            "889662                              Dark End of the Street           0.751457  \n",
            "24359                               DIVA- Platinum Edition           0.749654  \n",
            "544424                                          Far Voices           0.745924  \n",
            "1109804                                  From Coastal Daze           0.735105  \n",
            "862705                                        Clasico \"88\"           0.730904  \n",
            "819016   The Blue Danube (Waltzes and Polkas by the Str...           0.722910  \n",
            "43220                                   Payin' for My Sins           0.715242  \n"
          ]
        }
      ]
    },
    {
      "cell_type": "code",
      "source": [
        "# Exclude noise points\n",
        "non_noise_indices = clusters != -1\n",
        "X_pca_no_noise = X_pca[non_noise_indices]\n",
        "clusters_no_noise = clusters[non_noise_indices]\n",
        "\n",
        "# Compute metrics\n",
        "#silhouette_score = metrics.silhouette_score(X_pca_no_noise, clusters_no_noise)\n",
        "davies_bouldin_score = metrics.davies_bouldin_score(X_pca_no_noise, clusters_no_noise)\n",
        "calinski_harabasz_score = metrics.calinski_harabasz_score(X_pca_no_noise, clusters_no_noise)\n",
        "\n",
        "#print(\"Silhouette Score (excluding noise points):\", silhouette_score)\n",
        "print(\"Davies-Bouldin Index (excluding noise points):\", davies_bouldin_score)\n",
        "print(\"Calinski-Harabasz Index (excluding noise points):\", calinski_harabasz_score)\n"
      ],
      "metadata": {
        "colab": {
          "base_uri": "https://localhost:8080/"
        },
        "id": "UN3ux60yySDC",
        "outputId": "f1571695-f7d0-4c06-a272-3d74b2584190"
      },
      "execution_count": 24,
      "outputs": [
        {
          "output_type": "stream",
          "name": "stdout",
          "text": [
            "Davies-Bouldin Index (excluding noise points): 1.0215942595737155\n",
            "Calinski-Harabasz Index (excluding noise points): 573.4611955534367\n"
          ]
        }
      ]
    }
  ]
}