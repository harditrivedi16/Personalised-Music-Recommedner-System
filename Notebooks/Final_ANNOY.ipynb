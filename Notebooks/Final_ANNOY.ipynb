{
  "nbformat": 4,
  "nbformat_minor": 0,
  "metadata": {
    "colab": {
      "provenance": []
    },
    "kernelspec": {
      "name": "python3",
      "display_name": "Python 3"
    },
    "language_info": {
      "name": "python"
    }
  },
  "cells": [
    {
      "cell_type": "markdown",
      "source": [
        "# CMPE: 256 Advanced Data Mining \n",
        "## Spotify Music Recommendation System\n",
        "## Approach: ANNOY + nearest neighbours\n"
      ],
      "metadata": {
        "id": "BjHa06Lqyq03"
      }
    },
    {
      "cell_type": "markdown",
      "source": [
        "#### Installing required libraries "
      ],
      "metadata": {
        "id": "hmnBj4Ofywt7"
      }
    },
    {
      "cell_type": "code",
      "source": [
        "!pip install annoy"
      ],
      "metadata": {
        "colab": {
          "base_uri": "https://localhost:8080/"
        },
        "id": "m5RfmP5Lmo4a",
        "outputId": "bb2e9b2b-3064-4f09-ef59-b7a4265ae1eb"
      },
      "execution_count": 1,
      "outputs": [
        {
          "output_type": "stream",
          "name": "stdout",
          "text": [
            "Looking in indexes: https://pypi.org/simple, https://us-python.pkg.dev/colab-wheels/public/simple/\n",
            "Collecting annoy\n",
            "  Downloading annoy-1.17.2.tar.gz (647 kB)\n",
            "\u001b[2K     \u001b[90m━━━━━━━━━━━━━━━━━━━━━━━━━━━━━━━━━━━━━━\u001b[0m \u001b[32m647.4/647.4 kB\u001b[0m \u001b[31m17.6 MB/s\u001b[0m eta \u001b[36m0:00:00\u001b[0m\n",
            "\u001b[?25h  Preparing metadata (setup.py) ... \u001b[?25l\u001b[?25hdone\n",
            "Building wheels for collected packages: annoy\n",
            "  Building wheel for annoy (setup.py) ... \u001b[?25l\u001b[?25hdone\n",
            "  Created wheel for annoy: filename=annoy-1.17.2-cp310-cp310-linux_x86_64.whl size=582731 sha256=b440d31b3f1c243375f8feeb28bd60e629a6bba45d5a78e89c8439272be0b336\n",
            "  Stored in directory: /root/.cache/pip/wheels/7a/d9/59/473fa56df8e39430eeda369500b4e7127f5b243ba24c3c4297\n",
            "Successfully built annoy\n",
            "Installing collected packages: annoy\n",
            "Successfully installed annoy-1.17.2\n"
          ]
        }
      ]
    },
    {
      "cell_type": "code",
      "execution_count": 2,
      "metadata": {
        "id": "rSLgsPVul8Uc"
      },
      "outputs": [],
      "source": [
        "import pandas as pd\n",
        "import numpy as np\n",
        "import random\n",
        "\n",
        "from annoy import AnnoyIndex\n",
        "from sklearn.preprocessing import StandardScaler\n",
        "from sklearn.metrics.pairwise import cosine_similarity\n",
        "from sklearn.metrics.pairwise import cosine_distances\n"
      ]
    },
    {
      "cell_type": "markdown",
      "source": [
        "#### Data Preprocessing"
      ],
      "metadata": {
        "id": "3cECn21Wy3bH"
      }
    },
    {
      "cell_type": "code",
      "source": [
        "#Loading the dataset and extracting the features\n",
        "data = pd.read_csv('tracks_features.csv')\n",
        "#data['id']= data.index\n",
        "#features = ['acousticness', 'danceability', 'energy', 'instrumentalness', 'liveness', 'speechiness', 'valence']\n",
        "features = ['danceability', 'energy', 'key', 'loudness', 'mode', 'speechiness', 'acousticness', 'instrumentalness', 'liveness', 'valence', 'tempo']\n",
        "data_features = data[features].values"
      ],
      "metadata": {
        "id": "_UpiGUsJmS-e"
      },
      "execution_count": 33,
      "outputs": []
    },
    {
      "cell_type": "code",
      "source": [
        "#Normalizing the features\n",
        "scaler = StandardScaler()\n",
        "scaled_data_features = scaler.fit_transform(data_features)"
      ],
      "metadata": {
        "id": "gCnQ3CeGGCWy"
      },
      "execution_count": 34,
      "outputs": []
    },
    {
      "cell_type": "markdown",
      "source": [
        "#### Creating ANNOY Index"
      ],
      "metadata": {
        "id": "Rgo8G7efzM9x"
      }
    },
    {
      "cell_type": "code",
      "source": [
        "#Building ANNOY index\n",
        "n_trees = 10\n",
        "n_dimensions = len(features)\n",
        "index = AnnoyIndex(n_dimensions, 'angular')\n",
        "\n",
        "for i, feature_vector in enumerate(scaled_data_features):\n",
        "    index.add_item(i, feature_vector)\n",
        "\n",
        "index.build(n_trees)"
      ],
      "metadata": {
        "colab": {
          "base_uri": "https://localhost:8080/"
        },
        "id": "XbN_RTdFmWDd",
        "outputId": "1ec70aed-916f-40e4-8db4-74aa52f87b3a"
      },
      "execution_count": 35,
      "outputs": [
        {
          "output_type": "execute_result",
          "data": {
            "text/plain": [
              "True"
            ]
          },
          "metadata": {},
          "execution_count": 35
        }
      ]
    },
    {
      "cell_type": "markdown",
      "source": [
        "#### Finding nearest neighbours "
      ],
      "metadata": {
        "id": "AbrMjyoZzYwg"
      }
    },
    {
      "cell_type": "code",
      "source": [
        "#Finding nearest neighbours\n",
        "n_neighbors = 20\n",
        "nearest_neighbors = {}\n",
        "for i in range(len(scaled_data_features)):\n",
        "    nearest_neighbors[i] = index.get_nns_by_item(i, n_neighbors)"
      ],
      "metadata": {
        "id": "NdxWnvzrmYIS"
      },
      "execution_count": 36,
      "outputs": []
    },
    {
      "cell_type": "markdown",
      "source": [
        "#### Finding Recommendations "
      ],
      "metadata": {
        "id": "rpXNyFx6zhGd"
      }
    },
    {
      "cell_type": "code",
      "source": [
        "track_id_to_index = {track_id: index for index, track_id in enumerate(data['id'])}\n",
        "index_to_track_id = {index: track_id for track_id, index in track_id_to_index.items()}\n"
      ],
      "metadata": {
        "id": "Z8kkFp0wp6R2"
      },
      "execution_count": 37,
      "outputs": []
    },
    {
      "cell_type": "code",
      "source": [
        "#seed_track_id = random.choice(data['id'].values) # Replace this with the id of your seed track\n",
        "seed_track_id = '03fxLdlPWH9FZN83S2Gbvi'\n",
        "playlist_length = 50\n",
        "\n",
        "seed_index = track_id_to_index[seed_track_id]\n",
        "playlist_indices = [seed_index]\n",
        "\n",
        "for i in range(playlist_length - 1):\n",
        "    last_index = playlist_indices[-1]\n",
        "    # Choose the first nearest neighbor that is not already in the playlist\n",
        "    for neighbor in nearest_neighbors[last_index]:\n",
        "        if neighbor not in playlist_indices:\n",
        "            next_index = neighbor\n",
        "            break\n",
        "    playlist_indices.append(next_index)\n",
        "\n",
        "# Convert the integer indices back to track IDs\n",
        "playlist_track_ids = [index_to_track_id[index] for index in playlist_indices]\n",
        "\n",
        "print('Input Song:', seed_track_id)\n",
        "print(\"Generated Playlist:\")\n",
        "for i, index in enumerate(playlist_indices, start=1):\n",
        "    track_id = str(index_to_track_id[index])\n",
        "    print(f\"{i}. {track_id}\")\n"
      ],
      "metadata": {
        "colab": {
          "base_uri": "https://localhost:8080/"
        },
        "id": "ithesuaGmaJ9",
        "outputId": "fccd051e-693d-4a3a-dbaf-2f694da5619d"
      },
      "execution_count": 52,
      "outputs": [
        {
          "output_type": "stream",
          "name": "stdout",
          "text": [
            "Input Song: 03fxLdlPWH9FZN83S2Gbvi\n",
            "Generated Playlist:\n",
            "1. 03fxLdlPWH9FZN83S2Gbvi\n",
            "2. 6bX1k4WwoqRU5lXwuLH0yQ\n",
            "3. 7rWKZq4RazueaP5Y6tT11B\n",
            "4. 750TW4vyRLkfSNhTuGBh1E\n",
            "5. 1mp6FtMycViM8TvyAu12tK\n",
            "6. 7wvOT4t4r8vNPd5479zLJy\n",
            "7. 3etA2lGCZPknmBZLRc81ZY\n",
            "8. 3MNhMjSdRormcb5C5NGp95\n",
            "9. 0O9OPv8X9O3zXLmckWcUtO\n",
            "10. 0I3u8MoPGtvVVlZ9LxdpnA\n",
            "11. 1xkJJvlcrzLtTjYqmTrpav\n",
            "12. 51Rhk5lqjCzYamgdKpQvoX\n",
            "13. 17ucydgJWNUmrR0kZm2uU7\n",
            "14. 4QaRQPE9AylK30odm6AFEd\n",
            "15. 76PSv3kkDr8V6go6m68b5n\n",
            "16. 2UzbK9wKqQlh94Y43su3dg\n",
            "17. 71LsnVsnUUEYVSKnAoe2SG\n",
            "18. 5mr7g6XWPR8o9I5EXpjAYF\n",
            "19. 3oCmErrtVxXjdkEFbr8jft\n",
            "20. 4pDwMKVemP3IHA3yNXrac4\n",
            "21. 4SqAUapiLcsd7t3FoQUKs9\n",
            "22. 6qFoWfOKi5WlPl72uB9UZS\n",
            "23. 0oeC1BJsodmxf2GZOxklWj\n",
            "24. 43L66KWmj6uvzHciqMh5w6\n",
            "25. 1nKxVhfBYYNF8H74Leoq2q\n",
            "26. 5TPsVuaNP97gGntjxSssXA\n",
            "27. 7xU0pTefiUAIdjawYmaqRd\n",
            "28. 0G6Or0GsOWRVyelr4iSsSj\n",
            "29. 04ThlEpxqanS9fc4qbxPyX\n",
            "30. 1qEXcFgUTl5PxqjBBPGjav\n",
            "31. 2NrRBN2vbWmXO9HBOOYacX\n",
            "32. 7wmsoiGbDymMGZquRMQJZz\n",
            "33. 3ydDoNv3kA6fIYQSv7UaMf\n",
            "34. 1JSWjiwFcWLU1dBXGyLJAE\n",
            "35. 2EJ6CfCp5kfOpMzZIjwSuU\n",
            "36. 4qdkQL27untHA7YBoZhAFz\n",
            "37. 2sKeKEzKit3keMQPTuNVG0\n",
            "38. 209hyBUFzXDUsJSD3QWdfb\n",
            "39. 3JTg2BIcub6Eiwm7gk0K1p\n",
            "40. 0sLyxCdBC5Jkvs9sth2EAQ\n",
            "41. 7K89WSr8TwaxA0KTq4ZeVf\n",
            "42. 6x3yyrzHywbPkJF1pXMNJS\n",
            "43. 3TmLskb5q739S669m6mTUZ\n",
            "44. 2YmUwvfPOoOp6mmhjUdLdX\n",
            "45. 3XehszCKXnD6o9B5blsxkB\n",
            "46. 5OkQrKtmEnDQkBuKN8XfQm\n",
            "47. 5DEhooyp3rIKPFAp8f7SWW\n",
            "48. 7cwQIdZHjzruRkcSqXcYQW\n",
            "49. 4icELPF3ghRSLiEUxvM3Ir\n",
            "50. 2g7Yjfj4mQy5hXT192Or58\n"
          ]
        }
      ]
    },
    {
      "cell_type": "markdown",
      "source": [
        "#### Transition Smoothness"
      ],
      "metadata": {
        "id": "ADJNdY8NJvyn"
      }
    },
    {
      "cell_type": "code",
      "source": [
        "def pairwise_cosine_similarity(playlist, data, data_features):\n",
        "    similarities = []\n",
        "    for i in range(len(playlist) - 1):\n",
        "        track_1_id = playlist[i]\n",
        "        track_2_id = playlist[i + 1]\n",
        "        \n",
        "        track_1_index = data[data['id'] == track_1_id].index[0]\n",
        "        track_2_index = data[data['id'] == track_2_id].index[0]\n",
        "        \n",
        "        track_1_features = data_features[track_1_index]\n",
        "        track_2_features = data_features[track_2_index]\n",
        "        \n",
        "        similarity = cosine_similarity([track_1_features], [track_2_features])[0][0]\n",
        "        similarities.append(similarity)\n",
        "    return similarities"
      ],
      "metadata": {
        "id": "_t3jlTiWpS9O"
      },
      "execution_count": 46,
      "outputs": []
    },
    {
      "cell_type": "code",
      "source": [
        "similarities = pairwise_cosine_similarity(playlist_track_ids, data, scaled_data_features)"
      ],
      "metadata": {
        "id": "uLbhvVsAEYqM"
      },
      "execution_count": 53,
      "outputs": []
    },
    {
      "cell_type": "code",
      "source": [
        "average_similarity = np.mean(similarities)\n",
        "print(\"Average Cosine Similarity:\", average_similarity)"
      ],
      "metadata": {
        "colab": {
          "base_uri": "https://localhost:8080/"
        },
        "id": "PMK7vL2cpVTu",
        "outputId": "9fb23709-ec16-473c-fbf1-8578a2088afa"
      },
      "execution_count": 54,
      "outputs": [
        {
          "output_type": "stream",
          "name": "stdout",
          "text": [
            "Average Cosine Similarity: 0.9944617958275137\n"
          ]
        }
      ]
    },
    {
      "cell_type": "code",
      "source": [
        "# Assuming playlist_track_ids contains the track IDs of the generated playlist\n",
        "playlist_indices = [track_id_to_index[track_id] for track_id in playlist_track_ids]"
      ],
      "metadata": {
        "id": "S19sj2tNJ0CP"
      },
      "execution_count": 21,
      "outputs": []
    },
    {
      "cell_type": "markdown",
      "source": [
        "#### Intra-list Diversity "
      ],
      "metadata": {
        "id": "WObvK_TdKZNJ"
      }
    },
    {
      "cell_type": "code",
      "source": [
        "def intra_list_diversity(playlist, features):\n",
        "    pairwise_distances = cosine_distances(features[playlist])\n",
        "    avg_distance = np.mean(pairwise_distances)\n",
        "    return avg_distance\n"
      ],
      "metadata": {
        "id": "YeZZBX8dKntR"
      },
      "execution_count": 22,
      "outputs": []
    },
    {
      "cell_type": "code",
      "source": [
        "# Calculate Intra-list diversity\n",
        "diversity_score = intra_list_diversity(playlist_indices, scaled_data_features)\n",
        "print(f\"Intra-list Diversity: {diversity_score}\")"
      ],
      "metadata": {
        "colab": {
          "base_uri": "https://localhost:8080/"
        },
        "id": "9O00x_B9KqJQ",
        "outputId": "dcddd236-59b2-4196-c449-8e6b5900dc45"
      },
      "execution_count": 23,
      "outputs": [
        {
          "output_type": "stream",
          "name": "stdout",
          "text": [
            "Intra-list Diversity: 0.08496492645945168\n"
          ]
        }
      ]
    },
    {
      "cell_type": "markdown",
      "source": [
        "#### Artist diversity"
      ],
      "metadata": {
        "id": "R0O8ZSogK3cB"
      }
    },
    {
      "cell_type": "code",
      "source": [
        "def artist_diversity(playlist, track_to_artist):\n",
        "    unique_artists = len(set([track_to_artist[track] for track in playlist]))\n",
        "    artist_diversity_score = unique_artists / len(playlist)\n",
        "    return artist_diversity_score"
      ],
      "metadata": {
        "id": "69NQ7M4JK7w2"
      },
      "execution_count": 24,
      "outputs": []
    },
    {
      "cell_type": "code",
      "source": [
        "track_to_artist = dict(zip(data['id'], data['artist_ids']))\n",
        "artist_diversity_score = artist_diversity(playlist_track_ids, track_to_artist)\n",
        "print(f\"Artist Diversity: {artist_diversity_score}\")"
      ],
      "metadata": {
        "colab": {
          "base_uri": "https://localhost:8080/"
        },
        "id": "eR89H121K9p-",
        "outputId": "0c520342-0f9a-4462-ffc0-3833f53243c5"
      },
      "execution_count": 25,
      "outputs": [
        {
          "output_type": "stream",
          "name": "stdout",
          "text": [
            "Artist Diversity: 0.94\n"
          ]
        }
      ]
    }
  ]
}